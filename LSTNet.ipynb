{
 "cells": [
  {
   "cell_type": "code",
   "execution_count": 2,
   "id": "71857b93",
   "metadata": {},
   "outputs": [],
   "source": [
    "import numpy as np\n",
    "\n",
    "import tensorflow as tf\n",
    "import tensorflow.keras as keras\n",
    "from keras.layers import Input, Dense, Conv1D, GRU, Dropout, Flatten, Activation\n",
    "from keras.layers import concatenate, add, Lambda\n",
    "from keras.models import Model, Sequential\n",
    "import keras.backend as K\n",
    "\n",
    "from esgflib.data.datasets import get_melbourne_data, split_train_test_data, create_test_data\n",
    "from matplotlib import pyplot as plt\n",
    "from esgflib.features.features import create_training_points\n",
    "\n",
    "import pickle\n",
    "import datetime\n"
   ]
  },
  {
   "cell_type": "code",
   "execution_count": 3,
   "id": "06e30676",
   "metadata": {},
   "outputs": [],
   "source": [
    "#LSTNet model with GRU gates\n",
    "\n",
    "def make_model(hidC = 30,Ck = 3,hidR = 20,hidS = 30,skip = 15,loss = \"mse\",pt =3):\n",
    "\n",
    "    x = Input(shape=(history_days, 1))\n",
    "\n",
    "    # CNN\n",
    "    c = Conv1D(hidC, Ck, activation='relu', use_bias = True, kernel_regularizer = keras.regularizers.L1(0.005))(x)\n",
    "\n",
    "    # RNN\n",
    "\n",
    "    r = GRU(hidR, kernel_regularizer = keras.regularizers.L1(0.005))(c)\n",
    "    r = Lambda(lambda k: K.reshape(k, (-1, hidR)))(r)\n",
    "\n",
    "    # skip-RNN\n",
    "    if skip > 0:\n",
    "        # Reshape the data to easily setup the skip-RNN\n",
    "        s = Lambda(lambda k: k[:, int(-pt*skip):, :])(c)\n",
    "        s = Lambda(lambda k: K.reshape(k, (-1, pt, skip, hidC)))(s)\n",
    "        s = Lambda(lambda k: K.permute_dimensions(k, (0,2,1,3)))(s)\n",
    "        s = Lambda(lambda k: K.reshape(k, (-1, pt, hidC)))(s)\n",
    "\n",
    "        s = GRU(hidS, kernel_regularizer = keras.regularizers.L1(0.005))(s)\n",
    "        s = Lambda(lambda k: K.reshape(k, (-1, skip*hidS)))(s)\n",
    "        r = concatenate([r,s])\n",
    "\n",
    "    res = Dense(horizon_days, kernel_regularizer = keras.regularizers.L1(0.005))(r)\n",
    " \n",
    "\n",
    "\n",
    "       \n",
    "\n",
    "    res = Activation(\"relu\")(res)\n",
    "    model = Model(inputs=x, outputs=res)\n",
    "    model.compile(optimizer=tf.keras.optimizers.Adam(), loss=loss, metrics = [keras.metrics.mse])\n",
    "    return model"
   ]
  },
  {
   "cell_type": "code",
   "execution_count": 8,
   "id": "edc24fcc",
   "metadata": {},
   "outputs": [
    {
     "name": "stdout",
     "output_type": "stream",
     "text": [
      "Year: 1987 prediction of the next 3 months\n",
      "1/1 [==============================] - 1s 608ms/step - loss: 12.1762 - mean_squared_error: 5.6959\n"
     ]
    },
    {
     "name": "stderr",
     "output_type": "stream",
     "text": [
      "WARNING:absl:Found untraced functions such as gru_cell_6_layer_call_fn, gru_cell_6_layer_call_and_return_conditional_losses, gru_cell_7_layer_call_fn, gru_cell_7_layer_call_and_return_conditional_losses while saving (showing 4 of 4). These functions will not be directly callable after loading.\n"
     ]
    },
    {
     "name": "stdout",
     "output_type": "stream",
     "text": [
      "INFO:tensorflow:Assets written to: ram://85293dd8-ec02-4513-a63f-66c74969d038/assets\n"
     ]
    },
    {
     "name": "stderr",
     "output_type": "stream",
     "text": [
      "INFO:tensorflow:Assets written to: ram://85293dd8-ec02-4513-a63f-66c74969d038/assets\n",
      "WARNING:absl:<keras.layers.recurrent.GRUCell object at 0x7f38681fa310> has the same name 'GRUCell' as a built-in Keras object. Consider renaming <class 'keras.layers.recurrent.GRUCell'> to avoid naming conflicts when loading with `tf.keras.models.load_model`. If renaming is not possible, pass the object in the `custom_objects` parameter of the load function.\n",
      "WARNING:absl:<keras.layers.recurrent.GRUCell object at 0x7f3840618940> has the same name 'GRUCell' as a built-in Keras object. Consider renaming <class 'keras.layers.recurrent.GRUCell'> to avoid naming conflicts when loading with `tf.keras.models.load_model`. If renaming is not possible, pass the object in the `custom_objects` parameter of the load function.\n"
     ]
    },
    {
     "name": "stdout",
     "output_type": "stream",
     "text": [
      "Year: 1987 prediction of the next 6 months\n",
      "1/1 [==============================] - 1s 591ms/step - loss: 17.5479 - mean_squared_error: 6.6927\n"
     ]
    },
    {
     "name": "stderr",
     "output_type": "stream",
     "text": [
      "WARNING:absl:Found untraced functions such as gru_cell_8_layer_call_fn, gru_cell_8_layer_call_and_return_conditional_losses, gru_cell_9_layer_call_fn, gru_cell_9_layer_call_and_return_conditional_losses while saving (showing 4 of 4). These functions will not be directly callable after loading.\n"
     ]
    },
    {
     "name": "stdout",
     "output_type": "stream",
     "text": [
      "INFO:tensorflow:Assets written to: ram://adf20470-4428-48b5-a602-fb1e52ea6b12/assets\n"
     ]
    },
    {
     "name": "stderr",
     "output_type": "stream",
     "text": [
      "INFO:tensorflow:Assets written to: ram://adf20470-4428-48b5-a602-fb1e52ea6b12/assets\n",
      "WARNING:absl:<keras.layers.recurrent.GRUCell object at 0x7f38a0708be0> has the same name 'GRUCell' as a built-in Keras object. Consider renaming <class 'keras.layers.recurrent.GRUCell'> to avoid naming conflicts when loading with `tf.keras.models.load_model`. If renaming is not possible, pass the object in the `custom_objects` parameter of the load function.\n",
      "WARNING:absl:<keras.layers.recurrent.GRUCell object at 0x7f390003cc70> has the same name 'GRUCell' as a built-in Keras object. Consider renaming <class 'keras.layers.recurrent.GRUCell'> to avoid naming conflicts when loading with `tf.keras.models.load_model`. If renaming is not possible, pass the object in the `custom_objects` parameter of the load function.\n"
     ]
    },
    {
     "name": "stdout",
     "output_type": "stream",
     "text": [
      "Year: 1987 prediction of the next 12 months\n",
      "WARNING:tensorflow:5 out of the last 5 calls to <function Model.make_test_function.<locals>.test_function at 0x7f39181fbca0> triggered tf.function retracing. Tracing is expensive and the excessive number of tracings could be due to (1) creating @tf.function repeatedly in a loop, (2) passing tensors with different shapes, (3) passing Python objects instead of tensors. For (1), please define your @tf.function outside of the loop. For (2), @tf.function has experimental_relax_shapes=True option that relaxes argument shapes that can avoid unnecessary retracing. For (3), please refer to https://www.tensorflow.org/guide/function#controlling_retracing and https://www.tensorflow.org/api_docs/python/tf/function for  more details.\n"
     ]
    },
    {
     "name": "stderr",
     "output_type": "stream",
     "text": [
      "WARNING:tensorflow:5 out of the last 5 calls to <function Model.make_test_function.<locals>.test_function at 0x7f39181fbca0> triggered tf.function retracing. Tracing is expensive and the excessive number of tracings could be due to (1) creating @tf.function repeatedly in a loop, (2) passing tensors with different shapes, (3) passing Python objects instead of tensors. For (1), please define your @tf.function outside of the loop. For (2), @tf.function has experimental_relax_shapes=True option that relaxes argument shapes that can avoid unnecessary retracing. For (3), please refer to https://www.tensorflow.org/guide/function#controlling_retracing and https://www.tensorflow.org/api_docs/python/tf/function for  more details.\n"
     ]
    },
    {
     "name": "stdout",
     "output_type": "stream",
     "text": [
      "1/1 [==============================] - 1s 1s/step - loss: 25.6838 - mean_squared_error: 9.9085\n"
     ]
    },
    {
     "name": "stderr",
     "output_type": "stream",
     "text": [
      "WARNING:absl:Found untraced functions such as gru_cell_10_layer_call_fn, gru_cell_10_layer_call_and_return_conditional_losses, gru_cell_11_layer_call_fn, gru_cell_11_layer_call_and_return_conditional_losses while saving (showing 4 of 4). These functions will not be directly callable after loading.\n"
     ]
    },
    {
     "name": "stdout",
     "output_type": "stream",
     "text": [
      "INFO:tensorflow:Assets written to: ram://490f1476-3ccc-4402-b6bf-41e96365d538/assets\n"
     ]
    },
    {
     "name": "stderr",
     "output_type": "stream",
     "text": [
      "INFO:tensorflow:Assets written to: ram://490f1476-3ccc-4402-b6bf-41e96365d538/assets\n",
      "WARNING:absl:<keras.layers.recurrent.GRUCell object at 0x7f390c079460> has the same name 'GRUCell' as a built-in Keras object. Consider renaming <class 'keras.layers.recurrent.GRUCell'> to avoid naming conflicts when loading with `tf.keras.models.load_model`. If renaming is not possible, pass the object in the `custom_objects` parameter of the load function.\n",
      "WARNING:absl:<keras.layers.recurrent.GRUCell object at 0x7f391817c6d0> has the same name 'GRUCell' as a built-in Keras object. Consider renaming <class 'keras.layers.recurrent.GRUCell'> to avoid naming conflicts when loading with `tf.keras.models.load_model`. If renaming is not possible, pass the object in the `custom_objects` parameter of the load function.\n"
     ]
    },
    {
     "name": "stdout",
     "output_type": "stream",
     "text": [
      "Year: 1988 prediction of the next 3 months\n",
      "WARNING:tensorflow:6 out of the last 6 calls to <function Model.make_test_function.<locals>.test_function at 0x7f39180be430> triggered tf.function retracing. Tracing is expensive and the excessive number of tracings could be due to (1) creating @tf.function repeatedly in a loop, (2) passing tensors with different shapes, (3) passing Python objects instead of tensors. For (1), please define your @tf.function outside of the loop. For (2), @tf.function has experimental_relax_shapes=True option that relaxes argument shapes that can avoid unnecessary retracing. For (3), please refer to https://www.tensorflow.org/guide/function#controlling_retracing and https://www.tensorflow.org/api_docs/python/tf/function for  more details.\n"
     ]
    },
    {
     "name": "stderr",
     "output_type": "stream",
     "text": [
      "WARNING:tensorflow:6 out of the last 6 calls to <function Model.make_test_function.<locals>.test_function at 0x7f39180be430> triggered tf.function retracing. Tracing is expensive and the excessive number of tracings could be due to (1) creating @tf.function repeatedly in a loop, (2) passing tensors with different shapes, (3) passing Python objects instead of tensors. For (1), please define your @tf.function outside of the loop. For (2), @tf.function has experimental_relax_shapes=True option that relaxes argument shapes that can avoid unnecessary retracing. For (3), please refer to https://www.tensorflow.org/guide/function#controlling_retracing and https://www.tensorflow.org/api_docs/python/tf/function for  more details.\n"
     ]
    },
    {
     "name": "stdout",
     "output_type": "stream",
     "text": [
      "1/1 [==============================] - 1s 579ms/step - loss: 15.8220 - mean_squared_error: 9.4790\n"
     ]
    },
    {
     "name": "stderr",
     "output_type": "stream",
     "text": [
      "WARNING:absl:Found untraced functions such as gru_cell_12_layer_call_fn, gru_cell_12_layer_call_and_return_conditional_losses, gru_cell_13_layer_call_fn, gru_cell_13_layer_call_and_return_conditional_losses while saving (showing 4 of 4). These functions will not be directly callable after loading.\n"
     ]
    },
    {
     "name": "stdout",
     "output_type": "stream",
     "text": [
      "INFO:tensorflow:Assets written to: ram://046e496a-3c18-45f4-af04-47c311f1c5c1/assets\n"
     ]
    },
    {
     "name": "stderr",
     "output_type": "stream",
     "text": [
      "INFO:tensorflow:Assets written to: ram://046e496a-3c18-45f4-af04-47c311f1c5c1/assets\n",
      "WARNING:absl:<keras.layers.recurrent.GRUCell object at 0x7f398740ed30> has the same name 'GRUCell' as a built-in Keras object. Consider renaming <class 'keras.layers.recurrent.GRUCell'> to avoid naming conflicts when loading with `tf.keras.models.load_model`. If renaming is not possible, pass the object in the `custom_objects` parameter of the load function.\n",
      "WARNING:absl:<keras.layers.recurrent.GRUCell object at 0x7f38681f51f0> has the same name 'GRUCell' as a built-in Keras object. Consider renaming <class 'keras.layers.recurrent.GRUCell'> to avoid naming conflicts when loading with `tf.keras.models.load_model`. If renaming is not possible, pass the object in the `custom_objects` parameter of the load function.\n"
     ]
    },
    {
     "name": "stdout",
     "output_type": "stream",
     "text": [
      "Year: 1988 prediction of the next 6 months\n",
      "1/1 [==============================] - 1s 563ms/step - loss: 21.3452 - mean_squared_error: 10.6124\n"
     ]
    },
    {
     "name": "stderr",
     "output_type": "stream",
     "text": [
      "WARNING:absl:Found untraced functions such as gru_cell_14_layer_call_fn, gru_cell_14_layer_call_and_return_conditional_losses, gru_cell_15_layer_call_fn, gru_cell_15_layer_call_and_return_conditional_losses while saving (showing 4 of 4). These functions will not be directly callable after loading.\n"
     ]
    },
    {
     "name": "stdout",
     "output_type": "stream",
     "text": [
      "INFO:tensorflow:Assets written to: ram://0e3d9310-6a76-4799-a514-78fbf5c0f244/assets\n"
     ]
    },
    {
     "name": "stderr",
     "output_type": "stream",
     "text": [
      "INFO:tensorflow:Assets written to: ram://0e3d9310-6a76-4799-a514-78fbf5c0f244/assets\n",
      "WARNING:absl:<keras.layers.recurrent.GRUCell object at 0x7f38a0470700> has the same name 'GRUCell' as a built-in Keras object. Consider renaming <class 'keras.layers.recurrent.GRUCell'> to avoid naming conflicts when loading with `tf.keras.models.load_model`. If renaming is not possible, pass the object in the `custom_objects` parameter of the load function.\n",
      "WARNING:absl:<keras.layers.recurrent.GRUCell object at 0x7f39872770a0> has the same name 'GRUCell' as a built-in Keras object. Consider renaming <class 'keras.layers.recurrent.GRUCell'> to avoid naming conflicts when loading with `tf.keras.models.load_model`. If renaming is not possible, pass the object in the `custom_objects` parameter of the load function.\n"
     ]
    },
    {
     "name": "stdout",
     "output_type": "stream",
     "text": [
      "Year: 1988 prediction of the next 12 months\n",
      "1/1 [==============================] - 1s 570ms/step - loss: 28.4334 - mean_squared_error: 13.3023\n"
     ]
    },
    {
     "name": "stderr",
     "output_type": "stream",
     "text": [
      "WARNING:absl:Found untraced functions such as gru_cell_16_layer_call_fn, gru_cell_16_layer_call_and_return_conditional_losses, gru_cell_17_layer_call_fn, gru_cell_17_layer_call_and_return_conditional_losses while saving (showing 4 of 4). These functions will not be directly callable after loading.\n"
     ]
    },
    {
     "name": "stdout",
     "output_type": "stream",
     "text": [
      "INFO:tensorflow:Assets written to: ram://f9ad0938-982e-48cf-a1ca-58c46881761f/assets\n"
     ]
    },
    {
     "name": "stderr",
     "output_type": "stream",
     "text": [
      "INFO:tensorflow:Assets written to: ram://f9ad0938-982e-48cf-a1ca-58c46881761f/assets\n",
      "WARNING:absl:<keras.layers.recurrent.GRUCell object at 0x7f38a00a0f70> has the same name 'GRUCell' as a built-in Keras object. Consider renaming <class 'keras.layers.recurrent.GRUCell'> to avoid naming conflicts when loading with `tf.keras.models.load_model`. If renaming is not possible, pass the object in the `custom_objects` parameter of the load function.\n",
      "WARNING:absl:<keras.layers.recurrent.GRUCell object at 0x7f38687a13a0> has the same name 'GRUCell' as a built-in Keras object. Consider renaming <class 'keras.layers.recurrent.GRUCell'> to avoid naming conflicts when loading with `tf.keras.models.load_model`. If renaming is not possible, pass the object in the `custom_objects` parameter of the load function.\n"
     ]
    },
    {
     "name": "stdout",
     "output_type": "stream",
     "text": [
      "Year: 1989 prediction of the next 3 months\n",
      "1/1 [==============================] - 1s 571ms/step - loss: 20.2433 - mean_squared_error: 13.8964\n"
     ]
    },
    {
     "name": "stderr",
     "output_type": "stream",
     "text": [
      "WARNING:absl:Found untraced functions such as gru_cell_18_layer_call_fn, gru_cell_18_layer_call_and_return_conditional_losses, gru_cell_19_layer_call_fn, gru_cell_19_layer_call_and_return_conditional_losses while saving (showing 4 of 4). These functions will not be directly callable after loading.\n"
     ]
    },
    {
     "name": "stdout",
     "output_type": "stream",
     "text": [
      "INFO:tensorflow:Assets written to: ram://f9bd1090-c711-4438-8052-51cfdec1bc9f/assets\n"
     ]
    },
    {
     "name": "stderr",
     "output_type": "stream",
     "text": [
      "INFO:tensorflow:Assets written to: ram://f9bd1090-c711-4438-8052-51cfdec1bc9f/assets\n",
      "WARNING:absl:<keras.layers.recurrent.GRUCell object at 0x7f38a049a0d0> has the same name 'GRUCell' as a built-in Keras object. Consider renaming <class 'keras.layers.recurrent.GRUCell'> to avoid naming conflicts when loading with `tf.keras.models.load_model`. If renaming is not possible, pass the object in the `custom_objects` parameter of the load function.\n",
      "WARNING:absl:<keras.layers.recurrent.GRUCell object at 0x7f39874e38e0> has the same name 'GRUCell' as a built-in Keras object. Consider renaming <class 'keras.layers.recurrent.GRUCell'> to avoid naming conflicts when loading with `tf.keras.models.load_model`. If renaming is not possible, pass the object in the `custom_objects` parameter of the load function.\n"
     ]
    },
    {
     "name": "stdout",
     "output_type": "stream",
     "text": [
      "Year: 1989 prediction of the next 6 months\n",
      "1/1 [==============================] - 1s 574ms/step - loss: 24.1956 - mean_squared_error: 13.3195\n"
     ]
    },
    {
     "name": "stderr",
     "output_type": "stream",
     "text": [
      "WARNING:absl:Found untraced functions such as gru_cell_20_layer_call_fn, gru_cell_20_layer_call_and_return_conditional_losses, gru_cell_21_layer_call_fn, gru_cell_21_layer_call_and_return_conditional_losses while saving (showing 4 of 4). These functions will not be directly callable after loading.\n"
     ]
    },
    {
     "name": "stdout",
     "output_type": "stream",
     "text": [
      "INFO:tensorflow:Assets written to: ram://2a1f6006-f334-483c-a9f2-afd8945f4e97/assets\n"
     ]
    },
    {
     "name": "stderr",
     "output_type": "stream",
     "text": [
      "INFO:tensorflow:Assets written to: ram://2a1f6006-f334-483c-a9f2-afd8945f4e97/assets\n",
      "WARNING:absl:<keras.layers.recurrent.GRUCell object at 0x7f3986835b50> has the same name 'GRUCell' as a built-in Keras object. Consider renaming <class 'keras.layers.recurrent.GRUCell'> to avoid naming conflicts when loading with `tf.keras.models.load_model`. If renaming is not possible, pass the object in the `custom_objects` parameter of the load function.\n",
      "WARNING:absl:<keras.layers.recurrent.GRUCell object at 0x7f384049fb50> has the same name 'GRUCell' as a built-in Keras object. Consider renaming <class 'keras.layers.recurrent.GRUCell'> to avoid naming conflicts when loading with `tf.keras.models.load_model`. If renaming is not possible, pass the object in the `custom_objects` parameter of the load function.\n"
     ]
    },
    {
     "name": "stdout",
     "output_type": "stream",
     "text": [
      "Year: 1989 prediction of the next 12 months\n",
      "1/1 [==============================] - 1s 562ms/step - loss: 30.4211 - mean_squared_error: 15.3725\n"
     ]
    },
    {
     "name": "stderr",
     "output_type": "stream",
     "text": [
      "WARNING:absl:Found untraced functions such as gru_cell_22_layer_call_fn, gru_cell_22_layer_call_and_return_conditional_losses, gru_cell_23_layer_call_fn, gru_cell_23_layer_call_and_return_conditional_losses while saving (showing 4 of 4). These functions will not be directly callable after loading.\n"
     ]
    },
    {
     "name": "stdout",
     "output_type": "stream",
     "text": [
      "INFO:tensorflow:Assets written to: ram://4b0834b9-0d4a-4a53-b0e5-719e03a7e984/assets\n"
     ]
    },
    {
     "name": "stderr",
     "output_type": "stream",
     "text": [
      "INFO:tensorflow:Assets written to: ram://4b0834b9-0d4a-4a53-b0e5-719e03a7e984/assets\n",
      "WARNING:absl:<keras.layers.recurrent.GRUCell object at 0x7f39872c6790> has the same name 'GRUCell' as a built-in Keras object. Consider renaming <class 'keras.layers.recurrent.GRUCell'> to avoid naming conflicts when loading with `tf.keras.models.load_model`. If renaming is not possible, pass the object in the `custom_objects` parameter of the load function.\n",
      "WARNING:absl:<keras.layers.recurrent.GRUCell object at 0x7f38403b8b50> has the same name 'GRUCell' as a built-in Keras object. Consider renaming <class 'keras.layers.recurrent.GRUCell'> to avoid naming conflicts when loading with `tf.keras.models.load_model`. If renaming is not possible, pass the object in the `custom_objects` parameter of the load function.\n"
     ]
    }
   ],
   "source": [
    "\n",
    "# Get the data\n",
    "melbourne_data = get_melbourne_data()\n",
    "\n",
    "\n",
    "test_years = [1987,1988,1989]\n",
    "test_months = [3,6, 12]\n",
    "\n",
    "eval = {}\n",
    "\n",
    "for year in test_years:\n",
    "    eval[year] = []\n",
    "    for month in test_months:\n",
    "        print(\"Year:\", year, \"prediction of the next\", month, \"months\")\n",
    "        # Will evaluate the model on the next 30*month \n",
    "        horizon_days = month *30\n",
    "        #Models will be trained on 2 times the history to make sure to encounter the patterns to predicts\n",
    "        history_days = horizon_days * 2\n",
    "        \n",
    "        \n",
    "        # Get data\n",
    "        train_data, _ = split_train_test_data(melbourne_data, split_year=year)\n",
    "        X_test, Y_test = create_test_data(melbourne_data, history_days=history_days, horizon_days=horizon_days, year = year)\n",
    "        # Index\n",
    "        train_data.set_index('Date', inplace=True)\n",
    "\n",
    "        # Create test points\n",
    "\n",
    "        X_train, Y_train = create_training_points(train_data, history_days=history_days, horizon_days=horizon_days)\n",
    "        \n",
    "        \n",
    "        #Configuration of the model\n",
    "        \n",
    "        model = make_model(hidC = 30,Ck = 3,hidR = 20,hidS = 30,skip = 15,loss = \"mse\",pt =int((history_days-3)/15))\n",
    "        model.fit(X_train, Y_train, epochs = horizon_days * 10, batch_size = X_train.shape[0], verbose = False)\n",
    "        eval[year].append(model.evaluate(X_test, Y_test)[1])\n",
    "        with open(\"model\"+str(year)+\".\"+str(month)+\".\"+str(int(eval[year][-1]))+\".pkl\", \"wb\") as f:\n",
    "            pickle.dump(model, f)\n",
    "with open(\"eval.pkl\", \"wb\") as f:\n",
    "    pickle.dump(eval, f)"
   ]
  },
  {
   "cell_type": "code",
   "execution_count": 9,
   "id": "f841896c",
   "metadata": {},
   "outputs": [
    {
     "name": "stdout",
     "output_type": "stream",
     "text": [
      "{1987: [5.695873260498047, 6.692675590515137, 9.908455848693848], 1988: [9.479012489318848, 10.612396240234375, 13.302288055419922], 1989: [13.896384239196777, 13.319490432739258, 15.37254810333252]}\n"
     ]
    }
   ],
   "source": [
    "with open(\"eval.pkl\", \"rb\") as f:\n",
    "    eval = pickle.load(f)\n",
    "print(eval)"
   ]
  },
  {
   "cell_type": "code",
   "execution_count": null,
   "id": "0cfda4d4",
   "metadata": {},
   "outputs": [],
   "source": []
  }
 ],
 "metadata": {
  "kernelspec": {
   "display_name": "Python 3 (ipykernel)",
   "language": "python",
   "name": "python3"
  },
  "language_info": {
   "codemirror_mode": {
    "name": "ipython",
    "version": 3
   },
   "file_extension": ".py",
   "mimetype": "text/x-python",
   "name": "python",
   "nbconvert_exporter": "python",
   "pygments_lexer": "ipython3",
   "version": "3.8.10"
  }
 },
 "nbformat": 4,
 "nbformat_minor": 5
}
